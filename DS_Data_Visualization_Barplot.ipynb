{
  "nbformat": 4,
  "nbformat_minor": 0,
  "metadata": {
    "colab": {
      "name": "DS_Data_Visualization_Barplot.ipynb",
      "provenance": [],
      "authorship_tag": "ABX9TyMCvzMosMdnRtPFcJtXZuW/",
      "include_colab_link": true
    },
    "kernelspec": {
      "name": "python3",
      "display_name": "Python 3"
    }
  },
  "cells": [
    {
      "cell_type": "markdown",
      "metadata": {
        "id": "view-in-github",
        "colab_type": "text"
      },
      "source": [
        "<a href=\"https://colab.research.google.com/github/Shambhavi-Gupta/DS_Data_Visualization_Barplot/blob/master/DS_Data_Visualization_Barplot.ipynb\" target=\"_parent\"><img src=\"https://colab.research.google.com/assets/colab-badge.svg\" alt=\"Open In Colab\"/></a>"
      ]
    },
    {
      "cell_type": "markdown",
      "metadata": {
        "id": "sVjoT82LS9_i",
        "colab_type": "text"
      },
      "source": [
        "# Distribution of a categorical variable"
      ]
    },
    {
      "cell_type": "markdown",
      "metadata": {
        "id": "5H5vDbRgTGl7",
        "colab_type": "text"
      },
      "source": [
        "## Barplot"
      ]
    },
    {
      "cell_type": "code",
      "metadata": {
        "id": "TCXnPXWURC9o",
        "colab_type": "code",
        "colab": {
          "base_uri": "https://localhost:8080/",
          "height": 71
        },
        "outputId": "0cd2a968-9929-4a79-bfa4-5eb00fcaeb1d"
      },
      "source": [
        "import numpy as np\n",
        "import pandas as pd\n",
        "import seaborn as sns\n",
        "import matplotlib.pyplot as plt"
      ],
      "execution_count": null,
      "outputs": [
        {
          "output_type": "stream",
          "text": [
            "/usr/local/lib/python3.6/dist-packages/statsmodels/tools/_testing.py:19: FutureWarning: pandas.util.testing is deprecated. Use the functions in the public API at pandas.testing instead.\n",
            "  import pandas.util.testing as tm\n"
          ],
          "name": "stderr"
        }
      ]
    },
    {
      "cell_type": "code",
      "metadata": {
        "id": "y9rg8XMbRMzH",
        "colab_type": "code",
        "colab": {}
      },
      "source": [
        "d = sns.load_dataset('diamonds')"
      ],
      "execution_count": null,
      "outputs": []
    },
    {
      "cell_type": "code",
      "metadata": {
        "id": "eAXOYabZRSbg",
        "colab_type": "code",
        "colab": {}
      },
      "source": [
        "c = d.groupby('cut')['cut'].count()"
      ],
      "execution_count": null,
      "outputs": []
    },
    {
      "cell_type": "code",
      "metadata": {
        "id": "VCRPKgwjRagw",
        "colab_type": "code",
        "colab": {
          "base_uri": "https://localhost:8080/",
          "height": 279
        },
        "outputId": "269d3824-2a40-42de-840a-ad289587b72b"
      },
      "source": [
        "sns.barplot(x =c.index ,y =c.values);"
      ],
      "execution_count": null,
      "outputs": [
        {
          "output_type": "display_data",
          "data": {
            "image/png": "[encoded data removed]",
            "text/plain": [
              "<Figure size 432x288 with 1 Axes>"
            ]
          },
          "metadata": {
            "tags": [],
            "needs_background": "light"
          }
        }
      ]
    },
    {
      "cell_type": "code",
      "metadata": {
        "id": "7b9sSHbXRyDz",
        "colab_type": "code",
        "colab": {}
      },
      "source": [
        "c = d.groupby('clarity')['clarity'].count()"
      ],
      "execution_count": null,
      "outputs": []
    },
    {
      "cell_type": "code",
      "metadata": {
        "id": "z_R6KGKwSBFp",
        "colab_type": "code",
        "colab": {
          "base_uri": "https://localhost:8080/",
          "height": 279
        },
        "outputId": "7027a5ce-8c82-4a20-ddb5-b283b0b92bec"
      },
      "source": [
        "sns.barplot(x =c.index ,y =c.values);"
      ],
      "execution_count": null,
      "outputs": [
        {
          "output_type": "display_data",
          "data": {
            "image/png": "[encoded data removed]",
            "text/plain": [
              "<Figure size 432x288 with 1 Axes>"
            ]
          },
          "metadata": {
            "tags": [],
            "needs_background": "light"
          }
        }
      ]
    },
    {
      "cell_type": "code",
      "metadata": {
        "id": "YBpDAfmTSDKc",
        "colab_type": "code",
        "colab": {}
      },
      "source": [
        "c = d.groupby('color')['color'].count()"
      ],
      "execution_count": null,
      "outputs": []
    },
    {
      "cell_type": "code",
      "metadata": {
        "id": "sOabRcolSUNx",
        "colab_type": "code",
        "colab": {
          "base_uri": "https://localhost:8080/",
          "height": 279
        },
        "outputId": "af2e439d-cab0-4a4f-9b29-b7a230fde105"
      },
      "source": [
        "sns.barplot(x =c.index ,y =c.values);"
      ],
      "execution_count": null,
      "outputs": [
        {
          "output_type": "display_data",
          "data": {
            "image/png": "[encoded data removed]",
            "text/plain": [
              "<Figure size 432x288 with 1 Axes>"
            ]
          },
          "metadata": {
            "tags": [],
            "needs_background": "light"
          }
        }
      ]
    },
    {
      "cell_type": "code",
      "metadata": {
        "id": "EYfUg12DSV3V",
        "colab_type": "code",
        "colab": {}
      },
      "source": [
        ""
      ],
      "execution_count": null,
      "outputs": []
    }
  ]
}